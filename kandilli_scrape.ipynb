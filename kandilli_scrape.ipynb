{
 "cells": [
  {
   "cell_type": "code",
   "execution_count": 56,
   "id": "d102bc4b",
   "metadata": {},
   "outputs": [],
   "source": [
    "import requests\n",
    "from bs4 import BeautifulSoup\n",
    "from datetime import date"
   ]
  },
  {
   "cell_type": "code",
   "execution_count": 57,
   "id": "c6ccdb40",
   "metadata": {},
   "outputs": [
    {
     "name": "stdout",
     "output_type": "stream",
     "text": [
      "b'<HTML> \\r\\n\\r\\n\\r\\n<meta http-equiv=\"Content-Type\" content=\"text/html; charset=windows-1254\">\\r\\n<meta http-'\n"
     ]
    }
   ],
   "source": [
    "url = 'http://www.koeri.boun.edu.tr/scripts/lst1.asp'\n",
    "\n",
    "r = requests.get(url)\n",
    "\n",
    "print(r.content[:100])"
   ]
  },
  {
   "cell_type": "code",
   "execution_count": 58,
   "id": "18485263",
   "metadata": {},
   "outputs": [],
   "source": [
    "soup = BeautifulSoup(r.content, 'html.parser')"
   ]
  },
  {
   "cell_type": "code",
   "execution_count": 60,
   "id": "920ce744",
   "metadata": {},
   "outputs": [],
   "source": [
    "pre_tag = soup.find('pre')\n",
    "#if pre_tag:\n",
    "    #print(pre_tag.get_text())"
   ]
  },
  {
   "cell_type": "code",
   "execution_count": null,
   "id": "01ac1376",
   "metadata": {},
   "outputs": [
    {
     "name": "stdout",
     "output_type": "stream",
     "text": [
      "{'date': '2025.08.03', 'time': '17:07:59', 'latitude': '38.5153', 'longitude': '37.9762', 'depth_km': '6.9', 'MD': '-.-', 'ML': '1.8', 'Mw': '-.-', 'location': 'KADIIBRAHIM-AKCADAG (MALATYA)', 'quality': 'İlksel'}\n",
      "{'date': '2025.08.03', 'time': '15:19:08', 'latitude': '37.0057', 'longitude': '36.3765', 'depth_km': '5.0', 'MD': '-.-', 'ML': '1.9', 'Mw': '-.-', 'location': 'YARPUZ-(OSMANIYE)', 'quality': 'İlksel'}\n",
      "{'date': '2025.08.03', 'time': '15:02:32', 'latitude': '38.8398', 'longitude': '26.7578', 'depth_km': '5.0', 'MD': '-.-', 'ML': '1.5', 'Mw': '-.-', 'location': 'CANDARLI KORFEZI (EGE DENIZI)', 'quality': 'İlksel'}\n",
      "{'date': '2025.08.03', 'time': '13:43:07', 'latitude': '40.3658', 'longitude': '28.9940', 'depth_km': '8.1', 'MD': '-.-', 'ML': '2.8', 'Mw': '-.-', 'location': 'ALTINTAS-MUDANYA (BURSA)', 'quality': 'İlksel'}\n",
      "{'date': '2025.08.03', 'time': '13:41:58', 'latitude': '36.2197', 'longitude': '36.2042', 'depth_km': '8.5', 'MD': '-.-', 'ML': '2.2', 'Mw': '-.-', 'location': 'MASUKLU-(HATAY)', 'quality': 'İlksel'}\n",
      "{'date': '2025.08.03', 'time': '13:11:51', 'latitude': '39.2502', 'longitude': '28.9685', 'depth_km': '11.3', 'MD': '-.-', 'ML': '1.9', 'Mw': '-.-', 'location': 'YEMISLI-SIMAV (KUTAHYA)', 'quality': 'İlksel'}\n",
      "{'date': '2025.08.03', 'time': '13:10:33', 'latitude': '39.0642', 'longitude': '25.7962', 'depth_km': '7.6', 'MD': '-.-', 'ML': '2.3', 'Mw': '-.-', 'location': 'EGE DENIZI', 'quality': 'İlksel'}\n",
      "{'date': '2025.08.03', 'time': '12:41:47', 'latitude': '38.2720', 'longitude': '38.8552', 'depth_km': '5.0', 'MD': '-.-', 'ML': '2.2', 'Mw': '-.-', 'location': 'YEDIYOL-PUTURGE (MALATYA)', 'quality': 'İlksel'}\n",
      "{'date': '2025.08.03', 'time': '12:10:38', 'latitude': '39.0612', 'longitude': '25.7445', 'depth_km': '8.0', 'MD': '-.-', 'ML': '2.6', 'Mw': '-.-', 'location': 'EGE DENIZI', 'quality': 'İlksel'}\n",
      "{'date': '2025.08.03', 'time': '12:00:20', 'latitude': '39.0557', 'longitude': '25.7650', 'depth_km': '7.8', 'MD': '-.-', 'ML': '3.3', 'Mw': '3.3', 'location': 'EGE DENIZI', 'quality': 'İlksel'}\n",
      "{'date': '2025.08.03', 'time': '10:52:03', 'latitude': '40.8497', 'longitude': '27.7945', 'depth_km': '11.6', 'MD': '-.-', 'ML': '1.8', 'Mw': '-.-', 'location': 'MARMARA DENIZI', 'quality': 'İlksel'}\n",
      "{'date': '2025.08.03', 'time': '10:43:57', 'latitude': '39.0022', 'longitude': '28.0323', 'depth_km': '9.0', 'MD': '-.-', 'ML': '2.2', 'Mw': '-.-', 'location': 'PEKMEZCI-AKHISAR (MANISA)', 'quality': 'İlksel'}\n",
      "{'date': '2025.08.03', 'time': '09:51:26', 'latitude': '40.2145', 'longitude': '25.1455', 'depth_km': '9.2', 'MD': '-.-', 'ML': '2.1', 'Mw': '-.-', 'location': 'EGE DENIZI', 'quality': 'İlksel'}\n",
      "{'date': '2025.08.03', 'time': '09:16:23', 'latitude': '38.9752', 'longitude': '28.0595', 'depth_km': '13.8', 'MD': '-.-', 'ML': '1.7', 'Mw': '-.-', 'location': 'HACIIBRAHIMLER-AKHISAR (MANISA)', 'quality': 'İlksel'}\n",
      "{'date': '2025.08.03', 'time': '09:10:51', 'latitude': '38.9668', 'longitude': '28.0272', 'depth_km': '15.2', 'MD': '-.-', 'ML': '1.3', 'Mw': '-.-', 'location': 'SARNICKOY-AKHISAR (MANISA)', 'quality': 'İlksel'}\n",
      "{'date': '2025.08.03', 'time': '07:59:22', 'latitude': '39.2322', 'longitude': '29.0410', 'depth_km': '3.3', 'MD': '-.-', 'ML': '1.4', 'Mw': '-.-', 'location': 'KATRANDAGI-EMET (KUTAHYA)', 'quality': 'İlksel'}\n",
      "{'date': '2025.08.03', 'time': '07:31:37', 'latitude': '38.9815', 'longitude': '28.0433', 'depth_km': '10.4', 'MD': '-.-', 'ML': '2.2', 'Mw': '-.-', 'location': 'HACIIBRAHIMLER-AKHISAR (MANISA)', 'quality': 'İlksel'}\n",
      "{'date': '2025.08.03', 'time': '07:23:55', 'latitude': '39.0408', 'longitude': '28.0535', 'depth_km': '9.9', 'MD': '-.-', 'ML': '1.3', 'Mw': '-.-', 'location': 'KOMURCU-AKHISAR (MANISA)', 'quality': 'İlksel'}\n",
      "{'date': '2025.08.03', 'time': '07:12:12', 'latitude': '36.3990', 'longitude': '26.3718', 'depth_km': '95.6', 'MD': '-.-', 'ML': '3.3', 'Mw': '3.3', 'location': 'EGE DENIZI', 'quality': 'İlksel'}\n",
      "{'date': '2025.08.03', 'time': '07:00:45', 'latitude': '37.0968', 'longitude': '28.5977', 'depth_km': '16.5', 'MD': '-.-', 'ML': '1.9', 'Mw': '-.-', 'location': 'ARICILAR-ULA (MUGLA)', 'quality': 'İlksel'}\n",
      "{'date': '2025.08.03', 'time': '06:58:15', 'latitude': '38.9885', 'longitude': '28.0090', 'depth_km': '5.1', 'MD': '-.-', 'ML': '1.5', 'Mw': '-.-', 'location': 'PEKMEZCI-AKHISAR (MANISA)', 'quality': 'İlksel'}\n",
      "{'date': '2025.08.03', 'time': '06:55:00', 'latitude': '39.0887', 'longitude': '28.4097', 'depth_km': '13.7', 'MD': '-.-', 'ML': '1.6', 'Mw': '-.-', 'location': 'KOBAKLAR-GORDES (MANISA)', 'quality': 'İlksel'}\n",
      "{'date': '2025.08.03', 'time': '06:54:13', 'latitude': '39.0173', 'longitude': '28.0552', 'depth_km': '7.0', 'MD': '-.-', 'ML': '2.6', 'Mw': '-.-', 'location': 'KOMURCU-AKHISAR (MANISA)', 'quality': 'İlksel'}\n",
      "{'date': '2025.08.03', 'time': '06:50:28', 'latitude': '38.9972', 'longitude': '28.0282', 'depth_km': '7.7', 'MD': '-.-', 'ML': '2.7', 'Mw': '2.4', 'location': 'PEKMEZCI-AKHISAR (MANISA)', 'quality': 'İlksel'}\n",
      "{'date': '2025.08.03', 'time': '06:50:02', 'latitude': '38.9725', 'longitude': '28.0422', 'depth_km': '12.9', 'MD': '-.-', 'ML': '2.8', 'Mw': '-.-', 'location': 'HACIIBRAHIMLER-AKHISAR (MANISA)', 'quality': 'İlksel'}\n",
      "{'date': '2025.08.03', 'time': '06:48:51', 'latitude': '39.0050', 'longitude': '28.0320', 'depth_km': '7.3', 'MD': '-.-', 'ML': '3.5', 'Mw': '3.4', 'location': 'PEKMEZCI-AKHISAR (MANISA)', 'quality': 'İlksel'}\n",
      "{'date': '2025.08.03', 'time': '06:40:11', 'latitude': '38.9985', 'longitude': '28.0462', 'depth_km': '13.1', 'MD': '-.-', 'ML': '2.0', 'Mw': '-.-', 'location': 'PEKMEZCI-AKHISAR (MANISA)', 'quality': 'İlksel'}\n",
      "{'date': '2025.08.03', 'time': '06:39:03', 'latitude': '38.9953', 'longitude': '28.0450', 'depth_km': '9.0', 'MD': '-.-', 'ML': '2.1', 'Mw': '-.-', 'location': 'PEKMEZCI-AKHISAR (MANISA)', 'quality': 'İlksel'}\n",
      "{'date': '2025.08.03', 'time': '06:37:09', 'latitude': '38.9965', 'longitude': '28.0372', 'depth_km': '11.8', 'MD': '-.-', 'ML': '3.5', 'Mw': '3.2', 'location': 'PEKMEZCI-AKHISAR (MANISA)', 'quality': 'İlksel'}\n",
      "{'date': '2025.08.03', 'time': '06:31:51', 'latitude': '39.5483', 'longitude': '37.8623', 'depth_km': '1.8', 'MD': '-.-', 'ML': '2.3', 'Mw': '-.-', 'location': 'SUSUZLAR-DIVRIGI (SIVAS)', 'quality': 'İlksel'}\n",
      "{'date': '2025.08.03', 'time': '04:53:21', 'latitude': '37.6270', 'longitude': '35.3402', 'depth_km': '4.8', 'MD': '-.-', 'ML': '1.6', 'Mw': '-.-', 'location': 'YETIMLI-ALADAG (ADANA)', 'quality': 'İlksel'}\n",
      "{'date': '2025.08.03', 'time': '04:44:27', 'latitude': '37.4343', 'longitude': '29.7562', 'depth_km': '7.4', 'MD': '-.-', 'ML': '2.4', 'Mw': '-.-', 'location': 'DEREKOY-KARAMANLI (BURDUR)', 'quality': 'İlksel'}\n",
      "{'date': '2025.08.03', 'time': '04:13:52', 'latitude': '38.6767', 'longitude': '31.2015', 'depth_km': '5.2', 'MD': '-.-', 'ML': '1.0', 'Mw': '-.-', 'location': 'ORTAKARABAG-BOLVADIN (AFYONKARAHISAR)', 'quality': 'İlksel'}\n",
      "{'date': '2025.08.03', 'time': '03:59:24', 'latitude': '38.3058', 'longitude': '38.3173', 'depth_km': '6.5', 'MD': '-.-', 'ML': '2.1', 'Mw': '-.-', 'location': 'KARAGOZ-(MALATYA)', 'quality': 'İlksel'}\n",
      "{'date': '2025.08.03', 'time': '03:53:56', 'latitude': '39.4558', 'longitude': '26.2992', 'depth_km': '6.1', 'MD': '-.-', 'ML': '3.1', 'Mw': '2.8', 'location': 'EDREMIT KORFEZI (EGE DENIZI)', 'quality': 'İlksel'}\n",
      "{'date': '2025.08.03', 'time': '03:27:06', 'latitude': '38.1412', 'longitude': '38.5745', 'depth_km': '8.9', 'MD': '-.-', 'ML': '1.4', 'Mw': '-.-', 'location': 'ARIKONAK-SINCIK (ADIYAMAN)', 'quality': 'İlksel'}\n",
      "{'date': '2025.08.03', 'time': '02:59:57', 'latitude': '39.4107', 'longitude': '28.1445', 'depth_km': '6.0', 'MD': '-.-', 'ML': '2.1', 'Mw': '-.-', 'location': 'ISIKLAR-BIGADIC (BALIKESIR)', 'quality': 'İlksel'}\n",
      "{'date': '2025.08.03', 'time': '02:01:00', 'latitude': '36.6380', 'longitude': '25.6828', 'depth_km': '7.8', 'MD': '-.-', 'ML': '3.7', 'Mw': '4.1', 'location': 'EGE DENIZI', 'quality': 'İlksel'}\n",
      "{'date': '2025.08.03', 'time': '01:51:12', 'latitude': '38.1257', 'longitude': '38.5777', 'depth_km': '3.3', 'MD': '-.-', 'ML': '1.4', 'Mw': '-.-', 'location': 'ARIKONAK-SINCIK (ADIYAMAN)', 'quality': 'İlksel'}\n",
      "{'date': '2025.08.03', 'time': '00:48:13', 'latitude': '39.1478', 'longitude': '29.3925', 'depth_km': '9.6', 'MD': '-.-', 'ML': '1.4', 'Mw': '-.-', 'location': 'YESILOVA-GEDIZ (KUTAHYA)', 'quality': 'İlksel'}\n",
      "{'date': '2025.08.03', 'time': '00:37:28', 'latitude': '39.2080', 'longitude': '28.3115', 'depth_km': '7.4', 'MD': '-.-', 'ML': '1.8', 'Mw': '-.-', 'location': 'ASLANDEDE-SINDIRGI (BALIKESIR)', 'quality': 'İlksel'}\n",
      "{'date': '2025.08.03', 'time': '00:17:32', 'latitude': '41.7548', 'longitude': '42.0635', 'depth_km': '5.0', 'MD': '-.-', 'ML': '3.0', 'Mw': '-.-', 'location': 'UGURKOY-BORCKA (ARTVIN)', 'quality': 'İlksel'}\n"
     ]
    }
   ],
   "source": [
    "if pre_tag:\n",
    "    text = pre_tag.get_text()\n",
    "    lines = text.splitlines()\n",
    "    data_start_index = None\n",
    "\n",
    "    for i, line in enumerate(lines):\n",
    "        if line.strip().startswith('----------'):\n",
    "            data_start_index = i + 1\n",
    "            break\n",
    "    if data_start_index is None:\n",
    "        exit()\n",
    "\n",
    "    today_date = date.today().strftime('%Y.%m.%d')\n",
    "\n",
    "    earthquakes = []\n",
    "\n",
    "    for line in lines[data_start_index:]:\n",
    "        if not line.strip():\n",
    "            break\n",
    "        parts = line.split()\n",
    "        if len(parts) < 9:\n",
    "            continue\n",
    "        \n",
    "        quake_date = parts[0]\n",
    "\n",
    "        #Checks if earthquake happened today\n",
    "        if quake_date == today_date:\n",
    "            latitude_str = parts[2]\n",
    "            longitude_str = parts[3]\n",
    "            \n",
    "            try:\n",
    "                latitude = float(latitude_str)\n",
    "                longitude = float(longitude_str)\n",
    "            except ValueError:\n",
    "                continue\n",
    "            \n",
    "            #Checks coordinates to see if the earthquake is close enough to affect Turkey\n",
    "            #Explanation of why these coordinates where chosen is written below\n",
    "            if 24.58 <= longitude <= 45 and 36 <= latitude <= 42:\n",
    "                time = parts[1]\n",
    "                depth = parts[4]\n",
    "                MD = parts[5]\n",
    "                ML = parts[6]\n",
    "                Mw = parts[7]\n",
    "                quality = parts[-1]\n",
    "                location = \" \".join(parts[8:-1])\n",
    "                quake = {\n",
    "                    'date': quake_date,\n",
    "                    'time': time,\n",
    "                    'latitude': latitude_str,\n",
    "                    'longitude': longitude_str,\n",
    "                    'depth_km': depth,\n",
    "                    'MD': MD,\n",
    "                    'ML': ML,\n",
    "                    'Mw': Mw,\n",
    "                    'location': location,\n",
    "                    'quality': quality,\n",
    "                }\n",
    "                earthquakes.append(quake)\n",
    "        \n",
    "        elif quake_date < today_date:\n",
    "            break\n",
    "\n",
    "    #earth_list is a list to store dicts of earthquakes that have occured in the past 24h\n",
    "    #earth_list is recreated each time the scraped code runs\n",
    "    earth_list = []\n",
    "\n",
    "    for q in earthquakes:\n",
    "        earth_list.append(q)\n",
    "        print(q)"
   ]
  },
  {
   "cell_type": "markdown",
   "id": "7d4f9c59",
   "metadata": {},
   "source": [
    "The coordinates 42N, 36N, and 45E roughly gives the coordinates of Turkey and captures all major fault lines that could cause an earthquake. The coordinate 24.58E was chosen as it is the middle of the Helenic arc (center of Crete). Roughly 310km from the nearest Turkish coast. A major fault line exists near this longitude, which could pose a structural damage or tsunami risk if an earthquake larger than Mw 7.5 occurs."
   ]
  },
  {
   "cell_type": "code",
   "execution_count": null,
   "id": "ecf9b70b",
   "metadata": {},
   "outputs": [],
   "source": [
    "\"\"\"\n",
    "Sample data in format of l_earth for testing:\n",
    "\n",
    "earthquake_data = [\n",
    "    {'date': '2025.08.03', 'time': '13:43:07', 'latitude': '40.3658', 'longitude': '28.9940', 'depth_km': '8.1', 'MD': '-.-', 'ML': '2.8', 'Mw': '-.-'},\n",
    "    {'date': '2025.08.03', 'time': '13:41:58', 'latitude': '36.2197', 'longitude': '36.2042', 'depth_km': '8.5', 'MD': '-.-', 'ML': '2.2', 'Mw': '6.2'},\n",
    "    {'date': '2025.08.03', 'time': '13:11:51', 'latitude': '39.2502', 'longitude': '28.9685', 'depth_km': '11.3', 'MD': '-.-', 'ML': '1.9', 'Mw': '-.-'},\n",
    "    {'date': '2025.08.03', 'time': '13:10:33', 'latitude': '39.0642', 'longitude': '25.7962', 'depth_km': '7.6', 'MD': '-.-', 'ML': '2.3', 'Mw': '7.1'},\n",
    "    {'date': '2025.08.03', 'time': '12:55:01', 'latitude': '39.5011', 'longitude': '26.8837', 'depth_km': '9.8', 'MD': '-.-', 'ML': '3.5', 'Mw': '-.-'},\n",
    "    {'date': '2025.08.03', 'time': '12:45:01', 'latitude': '38.5011', 'longitude': '30.8837', 'depth_km': '15.2', 'MD': '-.-', 'ML': '4.1', 'Mw': '5.9'}\n",
    "]\n",
    "\"\"\"\n",
    "l_earth = []\n",
    "\n",
    "for quake in earth_list:\n",
    "    mw_value = quake.get('Mw')\n",
    "\n",
    "    if mw_value and mw_value != '-.-':\n",
    "        try:\n",
    "            mw_magnitude = float(mw_value)\n",
    "\n",
    "            # Check if the magnitude is greater than 6.1\n",
    "            #Explanation of why 6.1 is threshold is written below\n",
    "            if mw_magnitude > 6.1:\n",
    "                l_earth.append(quake)\n",
    "\n",
    "        except ValueError:\n",
    "            continue\n",
    "\n",
    "#To do: make data save to a file\n"
   ]
  },
  {
   "cell_type": "markdown",
   "id": "8fda8b50",
   "metadata": {},
   "source": [
    "The smallest deadly earthquake in Turkey in the last 50 years occurred in 1983 near Biga, with a magnitude of 6.1 (Ms). Today, the Mw (moment magnitude) scale is more commonly used instead of Ms. Another deadly earthquake in 1986 in Malatya also had a Mw of 6.1. Furthermore, the 6.1 Mw Elazığ earthquake in 2010 gave 41 casualties. This suggests that the minimum magnitude for fatal earthquakes in Turkey is 6.1 (Mw). Hence, the threshold has been set to 6.1 Mw in the code, and it is advised that this threshold remain the same for later parts of the project."
   ]
  }
 ],
 "metadata": {
  "kernelspec": {
   "display_name": "base",
   "language": "python",
   "name": "python3"
  },
  "language_info": {
   "codemirror_mode": {
    "name": "ipython",
    "version": 3
   },
   "file_extension": ".py",
   "mimetype": "text/x-python",
   "name": "python",
   "nbconvert_exporter": "python",
   "pygments_lexer": "ipython3",
   "version": "3.11.7"
  }
 },
 "nbformat": 4,
 "nbformat_minor": 5
}
